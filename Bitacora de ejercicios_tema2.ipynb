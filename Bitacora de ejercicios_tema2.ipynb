{
 "cells": [
  {
   "cell_type": "markdown",
   "metadata": {},
   "source": [
    "## Alumno: Miguel Benjamin Perez Suasnavar \n"
   ]
  },
  {
   "cell_type": "markdown",
   "metadata": {},
   "source": [
    "### 4to B ----- I.S.C"
   ]
  },
  {
   "cell_type": "markdown",
   "metadata": {},
   "source": [
    "## Ejercicio 1: Determinar una raiz f(x)=tan-3.5 en el intervalo [0,π] con una tolerancia de 0.05. "
   ]
  },
  {
   "cell_type": "code",
   "execution_count": 55,
   "metadata": {},
   "outputs": [
    {
     "name": "stdout",
     "output_type": "stream",
     "text": [
      "La funcion no tiene resultado o no contiene raices\n"
     ]
    }
   ],
   "source": [
    "import math \n",
    "def f(x):\n",
    "    return math.tan(x)-3.5\n",
    "\n",
    "maxInteracciones=11\n",
    "Interacciones=1\n",
    "cota=0.05\n",
    "error=1\n",
    "xi=0\n",
    "xs=3.1416\n",
    "fxi1=f(xi)\n",
    "fxs=f(xs)\n",
    "xranterior=0\n",
    "if(fxi1*fxs<0):\n",
    "    while cota<error and Interacciones<maxInteracciones:\n",
    "        xractual=(xi+xs)/2\n",
    "        fxi=f(xi)\n",
    "        fxr=f(xractual)\n",
    "        fxixfxr=fxi*fxr\n",
    "        error=abs((xractual-xranterior)/xractual)\n",
    "        print(\"Interaccion=\",Iteraciones,\"xi=\",\"{:.4f}\".format(xi),\"xs=\",\"{:.4f}\".format(xs),\"xr=\",\"{:.4f}\".format(xractual),\"f(xi)=\",\"{:.4f}\".format(fxi),\"f(xr)=\",\"{:.4f}\".format(fxr),\"f(xi)*f(xr)=\",\"{:.4f}\".format(fxixfxr),\"Error=\",\"{:.4f}\".format(error),sep=' ')\n",
    "        xranterior=xractual\n",
    "        Interacciones+=1\n",
    "        if fxixfxr>0:\n",
    "            xi=xractual\n",
    "        else:\n",
    "            xs=xractual\n",
    "else:\n",
    "    print(\"La funcion no tiene resultado o no contiene raices\")"
   ]
  },
  {
   "cell_type": "markdown",
   "metadata": {},
   "source": [
    "## Ejercicio 2. Encuentre una raíz para (x〖(2.1-0.5x)〗^2)/((1-x)〖(1.1-0.5x)〗^2 )=3.69 en el intervalo [0,1] con una tolerancia de 0.001."
   ]
  },
  {
   "cell_type": "code",
   "execution_count": 39,
   "metadata": {},
   "outputs": [
    {
     "name": "stdout",
     "output_type": "stream",
     "text": [
      "i--Xi---------- Xs--------- Xr -------  f(Xi) ---------  f(Xr)  ------------f(Xi)*f(Xr) ---- Error\n",
      "1 |Xi= 0.0000 |Xs= 1.0000 |Xr= 0.5000 |f(Xi)= -3.6900 |f(Xr)= 1.0470 |f(Xi)*f(Xr)= -3.8635 |Error= 1.0000\n",
      "2 |Xi= 0.0000 |Xs= 0.5000 |Xr= 0.2500 |f(Xi)= -3.6900 |f(Xr)= -2.3223 |f(Xi)*f(Xr)= 8.5691 |Error= 1.0000\n",
      "3 |Xi= 0.2500 |Xs= 0.5000 |Xr= 0.3750 |f(Xi)= -2.3223 |f(Xr)= -1.0543 |f(Xi)*f(Xr)= 2.4485 |Error= 0.3333\n",
      "4 |Xi= 0.3750 |Xs= 0.5000 |Xr= 0.4375 |f(Xi)= -1.0543 |f(Xr)= -0.1455 |f(Xi)*f(Xr)= 0.1534 |Error= 0.1429\n",
      "5 |Xi= 0.4375 |Xs= 0.5000 |Xr= 0.4688 |f(Xi)= -0.1455 |f(Xr)= 0.4086 |f(Xi)*f(Xr)= -0.0595 |Error= 0.0667\n",
      "6 |Xi= 0.4375 |Xs= 0.4688 |Xr= 0.4531 |f(Xi)= -0.1455 |f(Xr)= 0.1219 |f(Xi)*f(Xr)= -0.0177 |Error= 0.0345\n",
      "7 |Xi= 0.4375 |Xs= 0.4531 |Xr= 0.4453 |f(Xi)= -0.1455 |f(Xr)= -0.0141 |f(Xi)*f(Xr)= 0.0021 |Error= 0.0175\n",
      "8 |Xi= 0.4453 |Xs= 0.4531 |Xr= 0.4492 |f(Xi)= -0.0141 |f(Xr)= 0.0533 |f(Xi)*f(Xr)= -0.0008 |Error= 0.0087\n",
      "9 |Xi= 0.4453 |Xs= 0.4492 |Xr= 0.4473 |f(Xi)= -0.0141 |f(Xr)= 0.0195 |f(Xi)*f(Xr)= -0.0003 |Error= 0.0044\n",
      "10 |Xi= 0.4453 |Xs= 0.4473 |Xr= 0.4463 |f(Xi)= -0.0141 |f(Xr)= 0.0027 |f(Xi)*f(Xr)= -0.0000 |Error= 0.0022\n",
      "11 |Xi= 0.4453 |Xs= 0.4463 |Xr= 0.4458 |f(Xi)= -0.0141 |f(Xr)= -0.0057 |f(Xi)*f(Xr)= 0.0001 |Error= 0.0011\n",
      "12 |Xi= 0.4458 |Xs= 0.4463 |Xr= 0.4460 |f(Xi)= -0.0057 |f(Xr)= -0.0015 |f(Xi)*f(Xr)= 0.0000 |Error= 0.0005\n"
     ]
    }
   ],
   "source": [
    "import math\n",
    "maxIteraciones=31\n",
    "Iteraciones=1\n",
    "cota=0.001\n",
    "error=1\n",
    "Xi=0\n",
    "Xs=1\n",
    "print(\"i--Xi---------- Xs--------- Xr -------  f(Xi) ---------  f(Xr)  ------------f(Xi)*f(Xr) ---- Error\")\n",
    "XrAnterior=0\n",
    "while cota<error and Iteraciones<maxIteraciones:\n",
    "    XrActual=(Xi+Xs)/2\n",
    "    FXi=(Xi*(2.1-(0.5*Xi))**2)/((1-Xi)*(1.1-(0.5*Xi))**2)-3.69\n",
    "    FXr=(XrActual*(2.1-(0.5*XrActual))**2)/((1-XrActual)*(1.1-(0.5*XrActual))**2)-3.69\n",
    "    FXixFXr=FXi*FXr\n",
    "    error=abs((XrActual-XrAnterior)/XrActual)\n",
    "    print(Iteraciones,\"|Xi=\",\"{:.4f}\".format(Xi),\"|Xs=\",\"{:.4f}\".format(Xs),\"|Xr=\",\"{:.4f}\".format(XrActual),\"|f(Xi)=\",\"{:.4f}\".format(FXi),\"|f(Xr)=\",\"{:.4f}\".format(FXr),\"|f(Xi)*f(Xr)=\",\"{:.4f}\".format(FXixFXr),\"|Error=\",\"{:.4f}\".format(error),sep=' ')\n",
    "    XrAnterior=XrActual\n",
    "    Iteraciones+=1\n",
    "    if FXixFXr>0:\n",
    "        Xi=XrActual\n",
    "    else:\n",
    "        Xs=XrActual\n"
   ]
  },
  {
   "cell_type": "markdown",
   "metadata": {},
   "source": [
    "## Ejercicio 4. Encuentre la raíz de f(x)=tan⁡(x)-0.1x en el intervalo [π,1.5π] mediante el método de newton con una tolerancia de 0.0001"
   ]
  },
  {
   "cell_type": "code",
   "execution_count": 36,
   "metadata": {},
   "outputs": [
    {
     "name": "stdout",
     "output_type": "stream",
     "text": [
      "i--Xi---------- Xs--------- Xr -------  f(Xi) ---------  f(Xr)  ------------f(Xi)*f(Xr) ---- Error\n",
      "1 |Xi= 3.1416 |Xs= 4.7124 |Xr= 3.9270 |f(Xi)= -0.3142 |f(Xr)= 0.6073 |f(Xi)*f(Xr)= -0.1908 |Error= 1.0000\n",
      "2 |Xi= 3.1416 |Xs= 3.9270 |Xr= 3.5343 |f(Xi)= -0.3142 |f(Xr)= 0.0608 |f(Xi)*f(Xr)= -0.0191 |Error= 0.1111\n",
      "3 |Xi= 3.1416 |Xs= 3.5343 |Xr= 3.3380 |f(Xi)= -0.3142 |f(Xr)= -0.1349 |f(Xi)*f(Xr)= 0.0424 |Error= 0.0588\n",
      "4 |Xi= 3.3380 |Xs= 3.5343 |Xr= 3.4361 |f(Xi)= -0.1349 |f(Xr)= -0.0403 |f(Xi)*f(Xr)= 0.0054 |Error= 0.0286\n",
      "5 |Xi= 3.4361 |Xs= 3.5343 |Xr= 3.4852 |f(Xi)= -0.0403 |f(Xr)= 0.0093 |f(Xi)*f(Xr)= -0.0004 |Error= 0.0141\n",
      "6 |Xi= 3.4361 |Xs= 3.4852 |Xr= 3.4607 |f(Xi)= -0.0403 |f(Xr)= -0.0157 |f(Xi)*f(Xr)= 0.0006 |Error= 0.0071\n",
      "7 |Xi= 3.4607 |Xs= 3.4852 |Xr= 3.4729 |f(Xi)= -0.0157 |f(Xr)= -0.0033 |f(Xi)*f(Xr)= 0.0001 |Error= 0.0035\n",
      "8 |Xi= 3.4729 |Xs= 3.4852 |Xr= 3.4791 |f(Xi)= -0.0033 |f(Xr)= 0.0030 |f(Xi)*f(Xr)= -0.0000 |Error= 0.0018\n",
      "9 |Xi= 3.4729 |Xs= 3.4791 |Xr= 3.4760 |f(Xi)= -0.0033 |f(Xr)= -0.0001 |f(Xi)*f(Xr)= 0.0000 |Error= 0.0009\n",
      "10 |Xi= 3.4760 |Xs= 3.4791 |Xr= 3.4775 |f(Xi)= -0.0001 |f(Xr)= 0.0014 |f(Xi)*f(Xr)= -0.0000 |Error= 0.0004\n",
      "11 |Xi= 3.4760 |Xs= 3.4775 |Xr= 3.4768 |f(Xi)= -0.0001 |f(Xr)= 0.0006 |f(Xi)*f(Xr)= -0.0000 |Error= 0.0002\n",
      "12 |Xi= 3.4760 |Xs= 3.4768 |Xr= 3.4764 |f(Xi)= -0.0001 |f(Xr)= 0.0003 |f(Xi)*f(Xr)= -0.0000 |Error= 0.0001\n",
      "13 |Xi= 3.4760 |Xs= 3.4764 |Xr= 3.4762 |f(Xi)= -0.0001 |f(Xr)= 0.0001 |f(Xi)*f(Xr)= -0.0000 |Error= 0.0001\n"
     ]
    }
   ],
   "source": [
    "import math\n",
    "maxInteraciones=20\n",
    "Interaciones=1\n",
    "cota=0.0001\n",
    "error=1\n",
    "Xi=3.1416\n",
    "Xs=3.1416*1.5\n",
    "print(\"i---Xi---------- Xs--------- Xr -------  f(Xi) ---------  f(Xr)  ------------f(Xi)*f(Xr) ---- Error\")\n",
    "XrAnterior=0\n",
    "while cota<error and Interaciones<maxInteraciones:\n",
    "    XrActual=(Xi+Xs)/2\n",
    "    FXi=math.tan(Xi)-(0.1*Xi)\n",
    "    FXr=math.tan(XrActual)-(0.1*XrActual)\n",
    "    FXixFXr=FXi*FXr\n",
    "    error=abs((XrActual-XrAnterior)/XrActual)\n",
    "    print(Interaciones,\"|Xi=\",\"{:.4f}\".format(Xi),\"|Xs=\",\"{:.4f}\".format(Xs),\"|Xr=\",\"{:.4f}\".format(XrActual),\"|f(Xi)=\",\"{:.4f}\".format(FXi),\"|f(Xr)=\",\"{:.4f}\".format(FXr),\"|f(Xi)*f(Xr)=\",\"{:.4f}\".format(FXixFXr),\"|Error=\",\"{:.4f}\".format(error),sep=' ')\n",
    "    XrAnterior=XrActual\n",
    "    Interaciones+=1\n",
    "    if FXixFXr>0:\n",
    "        Xi=XrActual\n",
    "    else:\n",
    "        Xs=XrActual"
   ]
  },
  {
   "cell_type": "markdown",
   "metadata": {},
   "source": [
    "## Ejercicio 7. Utilice Xo=1 y determina la raíz con un error de 0.01 de la función x^4-3x^2-3."
   ]
  },
  {
   "cell_type": "code",
   "execution_count": 42,
   "metadata": {},
   "outputs": [
    {
     "name": "stdout",
     "output_type": "stream",
     "text": [
      "    i        xi-1       xi     f(xi-1)    f(xi)   (xi-1-xi)    xi+1     error   \n",
      "    1       1.0000    2.5000    1.0000   17.3125   -1.5000    1.3361    0.8711  \n",
      "    2       2.5000    1.3361   17.3125   -5.1686    1.1639    1.6037    0.1669  \n",
      "    3       1.3361    1.6037   -5.1686   -4.1010   -0.2676    2.6316    0.3906  \n",
      "    4       1.6037    2.6316   -4.1010   24.1824   -1.0279    1.7528    0.5014  \n",
      "    5       2.6316    1.7528   24.1824   -2.7784    0.8788    1.8433    0.0491  \n",
      "    6       1.7528    1.8433   -2.7784   -1.6483   -0.0906    1.9754    0.0669  \n",
      "    7       1.8433    1.9754   -1.6483    0.5208   -0.1321    1.9437    0.0163  \n",
      "    8       1.9754    1.9437    0.5208   -0.0609    0.0317    1.9470    0.0017  \n",
      "La raíz es:  1.947018\n"
     ]
    }
   ],
   "source": [
    "#Función para polinomios\n",
    "import math \n",
    "def poli(x):\n",
    "      y=y=pow(x,4)-3*pow(x,2)-3\n",
    "      return (y)\n",
    "\n",
    "cotaerror=0.01\n",
    "xi=2.5\n",
    "ximenos1=1\n",
    "fximenos1=poli(ximenos1)\n",
    "fxi=poli(xi)\n",
    "ximenos1menosxi=ximenos1-xi\n",
    "ximas1=xi-((fxi*ximenos1menosxi)/(fximenos1-fxi))\n",
    "error=abs((ximas1-xi)/ximas1)\n",
    "iteraciones=20\n",
    "i=1\n",
    "print(\"{:^10}{:^10}{:^10}{:^10}{:^10}{:^10}{:^10}{:^10}\".format(\"i\",\"xi-1\",\"xi\",\"f(xi-1)\",\"f(xi)\",\"(xi-1-xi)\",\"xi+1\",\"error\"))\n",
    "print(\"{:^10}{:^10.4f}{:^10.4f}{:^10.4f}{:^10.4f}{:^10.4f}{:^10.4f}{:^10.4f}\".format(i,float(ximenos1),float(xi),float(ximenos1),float(fxi),float(ximenos1menosxi),float(ximas1),float(error)))\n",
    "while error > cotaerror and i<iteraciones:\n",
    "    i=i+1  \n",
    "    ximenos1=xi\n",
    "    xi=ximas1\n",
    "    fximenos1=poli(ximenos1)\n",
    "    fxi=poli(xi)\n",
    "    ximenos1menosxi=ximenos1-xi\n",
    "    ximas1=xi-((fxi*ximenos1menosxi)/(fximenos1-fxi))\n",
    "    error=abs((ximas1-xi)/ximas1) \n",
    "    print(\"{:^10}{:^10.4f}{:^10.4f}{:^10.4f}{:^10.4f}{:^10.4f}{:^10.4f}{:^10.4f}\".format(i,float(ximenos1),float(xi),float(fximenos1),float(fxi),float(ximenos1menosxi),float(ximas1),float(error)))\n",
    "print(\"La raíz es: \",\"{:4f}\".format(ximas1))"
   ]
  },
  {
   "cell_type": "markdown",
   "metadata": {},
   "source": [
    "## Ejercicio 8. Utilice Xo=1 y determina la raíz con un error de 0.01 de la función 2 sen πx+x=0."
   ]
  },
  {
   "cell_type": "code",
   "execution_count": 43,
   "metadata": {},
   "outputs": [
    {
     "name": "stdout",
     "output_type": "stream",
     "text": [
      "    i        xi-1       xi     f(xi-1)    f(xi)   (xi-1-xi)    xi+1     error   \n",
      "    1       1.0000    2.9000    1.0000    3.5180   -1.9000    0.2454   10.8154  \n",
      "    2       2.9000    0.2454    3.5180    1.6393    2.6546   -2.0707    1.1185  \n",
      "    3       0.2454   -2.0707    1.6393   -2.5114    2.3162   -0.6693    2.0938  \n",
      "    4      -2.0707   -0.6693   -2.5114   -2.3930   -1.4014   27.6584    1.0242  \n",
      "    5      -0.6693   27.6584   -2.3930   25.9010   -28.3277   1.7266   15.0193  \n",
      "    6      27.6584    1.7266   25.9010    0.2121   25.9318    1.5124    0.1416  \n",
      "    7       1.7266    1.5124    0.2121   -0.4861    0.2142    1.6615    0.0897  \n",
      "    8       1.5124    1.6615   -0.4861   -0.0866   -0.1491    1.6938    0.0191  \n",
      "    9       1.6615    1.6938   -0.0866    0.0532   -0.0323    1.6815    0.0073  \n",
      "La raíz es:  1.681507\n"
     ]
    }
   ],
   "source": [
    "import math \n",
    "def poli(x):\n",
    "      y=2*math.sin(math.pi*x)+x\n",
    "      return (y)\n",
    "\n",
    "cotaerror=0.01\n",
    "xi=2.9\n",
    "ximenos1=1\n",
    "fximenos1=poli(ximenos1)\n",
    "fxi=poli(xi)\n",
    "ximenos1menosxi=ximenos1-xi\n",
    "ximas1=xi-((fxi*ximenos1menosxi)/(fximenos1-fxi))\n",
    "error=abs((ximas1-xi)/ximas1)\n",
    "iteraciones=20\n",
    "i=1\n",
    "print(\"{:^10}{:^10}{:^10}{:^10}{:^10}{:^10}{:^10}{:^10}\".format(\"i\",\"xi-1\",\"xi\",\"f(xi-1)\",\"f(xi)\",\"(xi-1-xi)\",\"xi+1\",\"error\"))\n",
    "print(\"{:^10}{:^10.4f}{:^10.4f}{:^10.4f}{:^10.4f}{:^10.4f}{:^10.4f}{:^10.4f}\".format(i,float(ximenos1),float(xi),float(ximenos1),float(fxi),float(ximenos1menosxi),float(ximas1),float(error)))\n",
    "while error > cotaerror and i<iteraciones:\n",
    "    i=i+1  \n",
    "    ximenos1=xi\n",
    "    xi=ximas1\n",
    "    fximenos1=poli(ximenos1)\n",
    "    fxi=poli(xi)\n",
    "    ximenos1menosxi=ximenos1-xi\n",
    "    ximas1=xi-((fxi*ximenos1menosxi)/(fximenos1-fxi))\n",
    "    error=abs((ximas1-xi)/ximas1) \n",
    "    print(\"{:^10}{:^10.4f}{:^10.4f}{:^10.4f}{:^10.4f}{:^10.4f}{:^10.4f}{:^10.4f}\".format(i,float(ximenos1),float(xi),float(fximenos1),float(fxi),float(ximenos1menosxi),float(ximas1),float(error)))\n",
    "print(\"La raíz es: \",\"{:4f}\".format(ximas1))"
   ]
  },
  {
   "cell_type": "markdown",
   "metadata": {},
   "source": [
    "## Ejercicio 9. Sea f(x)=x^2-6, y utilice x0=1 para determinar la raíz, considere un error del 0.001"
   ]
  },
  {
   "cell_type": "code",
   "execution_count": 44,
   "metadata": {},
   "outputs": [
    {
     "name": "stdout",
     "output_type": "stream",
     "text": [
      "    i        xi-1       xi     f(xi-1)    f(xi)   (xi-1-xi)    xi+1     error   \n",
      "    1       1.0000    2.0000    1.0000   -2.0000   -1.0000    2.6667    0.2500  \n",
      "    2       2.0000    2.6667   -2.0000    1.1111   -0.6667    2.4286    0.0980  \n",
      "    3       2.6667    2.4286    1.1111   -0.1020    0.2381    2.4486    0.0082  \n",
      "    4       2.4286    2.4486   -0.1020   -0.0044   -0.0200    2.4495    0.0004  \n",
      "La raíz es:  2.449494\n"
     ]
    }
   ],
   "source": [
    "import math \n",
    "def poli(x):\n",
    "      y=pow(x,2)-6\n",
    "      return (y)\n",
    "\n",
    "cotaerror=0.001\n",
    "xi=2\n",
    "ximenos1=1\n",
    "fximenos1=poli(ximenos1)\n",
    "fxi=poli(xi)\n",
    "ximenos1menosxi=ximenos1-xi\n",
    "ximas1=xi-((fxi*ximenos1menosxi)/(fximenos1-fxi))\n",
    "error=abs((ximas1-xi)/ximas1)\n",
    "iteraciones=20\n",
    "i=1\n",
    "print(\"{:^10}{:^10}{:^10}{:^10}{:^10}{:^10}{:^10}{:^10}\".format(\"i\",\"xi-1\",\"xi\",\"f(xi-1)\",\"f(xi)\",\"(xi-1-xi)\",\"xi+1\",\"error\"))\n",
    "print(\"{:^10}{:^10.4f}{:^10.4f}{:^10.4f}{:^10.4f}{:^10.4f}{:^10.4f}{:^10.4f}\".format(i,float(ximenos1),float(xi),float(ximenos1),float(fxi),float(ximenos1menosxi),float(ximas1),float(error)))\n",
    "while error > cotaerror and i<iteraciones:\n",
    "    i=i+1  \n",
    "    ximenos1=xi\n",
    "    xi=ximas1\n",
    "    fximenos1=poli(ximenos1)\n",
    "    fxi=poli(xi)\n",
    "    ximenos1menosxi=ximenos1-xi\n",
    "    ximas1=xi-((fxi*ximenos1menosxi)/(fximenos1-fxi))\n",
    "    error=abs((ximas1-xi)/ximas1) \n",
    "    print(\"{:^10}{:^10.4f}{:^10.4f}{:^10.4f}{:^10.4f}{:^10.4f}{:^10.4f}{:^10.4f}\".format(i,float(ximenos1),float(xi),float(fximenos1),float(fxi),float(ximenos1menosxi),float(ximas1),float(error)))\n",
    "print(\"La raíz es: \",\"{:4f}\".format(ximas1))"
   ]
  },
  {
   "cell_type": "markdown",
   "metadata": {},
   "source": [
    "## Ejercicio 10. Sea f(x)=〖-x〗^3-cos⁡x, y utilice x0=--1 para determinar la raíz, considere un error del 0.001"
   ]
  },
  {
   "cell_type": "code",
   "execution_count": null,
   "metadata": {},
   "outputs": [],
   "source": [
    "import math \n",
    "def poli(x):\n",
    "      y=-pow(x,3)-math.cos(x)\n",
    "      return (y)\n",
    "\n",
    "cotaerror=0.001\n",
    "xi=0\n",
    "ximenos1=-1\n",
    "fximenos1=poli(ximenos1)\n",
    "fxi=poli(xi)\n",
    "ximenos1menosxi=ximenos1-xi\n",
    "ximas1=xi-((fxi*ximenos1menosxi)/(fximenos1-fxi))\n",
    "error=abs((ximas1-xi)/ximas1)\n",
    "iteraciones=20\n",
    "i=1\n",
    "print(\"{:^10}{:^10}{:^10}{:^10}{:^10}{:^10}{:^10}{:^10}\".format(\"i\",\"xi-1\",\"xi\",\"f(xi-1)\",\"f(xi)\",\"(xi-1-xi)\",\"xi+1\",\"error\"))\n",
    "print(\"{:^10}{:^10.4f}{:^10.4f}{:^10.4f}{:^10.4f}{:^10.4f}{:^10.4f}{:^10.4f}\".format(i,float(ximenos1),float(xi),float(ximenos1),float(fxi),float(ximenos1menosxi),float(ximas1),float(error)))\n",
    "while error > cotaerror and i<iteracciones:\n",
    "    i=i+1  \n",
    "    ximenos1=xi\n",
    "    xi=ximas1\n",
    "    fximenos1=poli(ximenos1)\n",
    "    fxi=poli(xi)\n",
    "    ximenos1menosxi=ximenos1-xi\n",
    "    ximas1=xi-((fxi*ximenos1menosxi)/(fximenos1-fxi))\n",
    "    error=abs((ximas1-xi)/ximas1) \n",
    "    print(\"{:^10}{:^10.4f}{:^10.4f}{:^10.4f}{:^10.4f}{:^10.4f}{:^10.4f}{:^10.4f}\".format(i,float(ximenos1),float(xi),float(fximenos1),float(fxi),float(ximenos1menosxi),float(ximas1),float(error)))\n",
    "print(\"La raíz es: \",\"{:4f}\".format(ximas1))"
   ]
  },
  {
   "cell_type": "markdown",
   "metadata": {},
   "source": [
    "## Ejercicio 11. Sea f(x)=〖-x〗^3-cos⁡x, y utilice x0=--1, x1=1 para determinar la raíz, considere un error del 0.001"
   ]
  },
  {
   "cell_type": "code",
   "execution_count": 53,
   "metadata": {},
   "outputs": [
    {
     "name": "stdout",
     "output_type": "stream",
     "text": [
      "-i---Xi---------- f(xi)  --------- f(xi-1) -------  xi-xi-1 --------- Error\n",
      " 1 |Xi= 1.0000 |F(Xi)= -1.5403 |F(Xi-1)= 0.4597 |Xi-Xi-1= 2.0000 |Error= 2.0000\n",
      " 2 |Xi= -0.5403 |F(Xi)= -0.6998 |F(Xi-1)= -1.5403 |Xi-Xi-1= -1.5403 |Error= 2.8508\n",
      " 3 |Xi= -1.8228 |F(Xi)= 6.3062 |F(Xi-1)= -0.6998 |Xi-Xi-1= -1.2825 |Error= 0.7036\n",
      " 4 |Xi= -0.6684 |F(Xi)= -0.4862 |F(Xi-1)= 6.3062 |Xi-Xi-1= 1.1544 |Error= 1.7271\n",
      " 5 |Xi= -0.7510 |F(Xi)= -0.3073 |F(Xi-1)= -0.4862 |Xi-Xi-1= -0.0826 |Error= 0.1100\n",
      " 6 |Xi= -0.8930 |F(Xi)= 0.0852 |F(Xi-1)= -0.3073 |Xi-Xi-1= -0.1420 |Error= 0.1590\n",
      " 7 |Xi= -0.8622 |F(Xi)= -0.0097 |F(Xi-1)= 0.0852 |Xi-Xi-1= 0.0308 |Error= 0.0357\n",
      " 8 |Xi= -0.8654 |F(Xi)= -0.0003 |F(Xi-1)= -0.0097 |Xi-Xi-1= -0.0032 |Error= 0.0037\n",
      " 9 |Xi= -0.8655 |F(Xi)= 0.0000 |F(Xi-1)= -0.0003 |Xi-Xi-1= -0.0001 |Error= 0.0001\n"
     ]
    }
   ],
   "source": [
    "import math\n",
    "x0=-1\n",
    "x1=1\n",
    "cota=0.001\n",
    "error=1\n",
    "maxIteraciones=11\n",
    "Iteraciones=1\n",
    "print(\"-i---Xi---------- f(xi)  --------- f(xi-1) -------  xi-xi-1 --------- Error\")\n",
    "while cota<error and Iteraciones<maxIteraciones:\n",
    "    FX1=-(x1)**3-math.cos(x1)\n",
    "    FX0=-(x0)**3-math.cos(x0)\n",
    "    resta=(x1-x0)\n",
    "    error=abs((x1-x0)/x1)\n",
    "    print(\"\",Iteraciones,\"|Xi=\",\"{:.4f}\".format(x1),\"|F(Xi)=\",\"{:.4f}\".format(FX1),\"|F(Xi-1)=\",\"{:.4f}\".format(FX0),\"|Xi-Xi-1=\",\"{:.4f}\".format(resta),\"|Error=\",\"{:.4f}\".format(error),sep=' ')\n",
    "    x0=x1\n",
    "    x1=x1-(FX1*resta)/(FX1-FX0)\n",
    "    Iteraciones+=1"
   ]
  },
  {
   "cell_type": "markdown",
   "metadata": {},
   "source": [
    "## Ejercicio 12. Sea f(x)= tanπx-6, y utilice x0=0, x1=0.44 para determinar la raíz, considere un error del 0.001."
   ]
  },
  {
   "cell_type": "code",
   "execution_count": 54,
   "metadata": {},
   "outputs": [
    {
     "name": "stdout",
     "output_type": "stream",
     "text": [
      "    i        xi-1       xi     f(xi-1)    f(xi)   (xi-1-xi)    xi+1     error   \n",
      "    1       0.0000    0.4400    0.0000   -0.7578   -0.4400    0.5036    0.1263  \n",
      "    2       0.4400    0.5036   -0.7578   -94.2457  -0.0636    0.4395    0.1459  \n",
      "    3       0.5036    0.4395   -94.2457  -0.8036    0.0641    0.4389    0.0013  \n",
      "    4       0.4395    0.4389   -0.8036   -0.8516    0.0006    0.4487    0.0218  \n",
      "    5       0.4389    0.4487   -0.8516    0.1511   -0.0098    0.4472    0.0033  \n",
      "    6       0.4487    0.4472    0.1511   -0.0235    0.0015    0.4474    0.0004  \n",
      "La raíz es:  0.447427\n"
     ]
    }
   ],
   "source": [
    "import math \n",
    "def poli(x):\n",
    "      y=math.tan(math.pi*x)-6\n",
    "      return (y)\n",
    "\n",
    "cotaerror=0.001\n",
    "xi=.44\n",
    "ximenos1=0\n",
    "fximenos1=poli(ximenos1)\n",
    "fxi=poli(xi)\n",
    "ximenos1menosxi=ximenos1-xi\n",
    "ximas1=xi-((fxi*ximenos1menosxi)/(fximenos1-fxi))\n",
    "error=abs((ximas1-xi)/ximas1)\n",
    "iteraciones=20\n",
    "i=1\n",
    "print(\"{:^10}{:^10}{:^10}{:^10}{:^10}{:^10}{:^10}{:^10}\".format(\"i\",\"xi-1\",\"xi\",\"f(xi-1)\",\"f(xi)\",\"(xi-1-xi)\",\"xi+1\",\"error\"))\n",
    "print(\"{:^10}{:^10.4f}{:^10.4f}{:^10.4f}{:^10.4f}{:^10.4f}{:^10.4f}{:^10.4f}\".format(i,float(ximenos1),float(xi),float(ximenos1),float(fxi),float(ximenos1menosxi),float(ximas1),float(error)))\n",
    "while error > cotaerror and i<iteraciones:\n",
    "    i=i+1  \n",
    "    ximenos1=xi\n",
    "    xi=ximas1\n",
    "    fximenos1=poli(ximenos1)\n",
    "    fxi=poli(xi)\n",
    "    ximenos1menosxi=ximenos1-xi\n",
    "    ximas1=xi-((fxi*ximenos1menosxi)/(fximenos1-fxi))\n",
    "    error=abs((ximas1-xi)/ximas1) \n",
    "    print(\"{:^10}{:^10.4f}{:^10.4f}{:^10.4f}{:^10.4f}{:^10.4f}{:^10.4f}{:^10.4f}\".format(i,float(ximenos1),float(xi),float(fximenos1),float(fxi),float(ximenos1menosxi),float(ximas1),float(error)))\n",
    "print(\"La raíz es: \",\"{:4f}\".format(ximas1))"
   ]
  },
  {
   "cell_type": "code",
   "execution_count": null,
   "metadata": {},
   "outputs": [],
   "source": []
  }
 ],
 "metadata": {
  "kernelspec": {
   "display_name": "Python 3",
   "language": "python",
   "name": "python3"
  },
  "language_info": {
   "codemirror_mode": {
    "name": "ipython",
    "version": 3
   },
   "file_extension": ".py",
   "mimetype": "text/x-python",
   "name": "python",
   "nbconvert_exporter": "python",
   "pygments_lexer": "ipython3",
   "version": "3.8.5"
  }
 },
 "nbformat": 4,
 "nbformat_minor": 4
}
